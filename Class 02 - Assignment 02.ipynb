{
 "cells": [
  {
   "cell_type": "markdown",
   "id": "9c2cf1b2-3352-42d1-8a89-91526e16601a",
   "metadata": {
    "id": "9c2cf1b2-3352-42d1-8a89-91526e16601a",
    "jp-MarkdownHeadingCollapsed": true
   },
   "source": [
    "### 1. Write a program that swaps the values of two variables."
   ]
  },
  {
   "cell_type": "code",
   "execution_count": null,
   "id": "fdeabd90-9ce8-47f9-8444-750c51ea505e",
   "metadata": {
    "id": "fdeabd90-9ce8-47f9-8444-750c51ea505e",
    "scrolled": true
   },
   "outputs": [],
   "source": [
    "# define varaibele\n",
    "a = 2\n",
    "b = 3\n",
    "\n",
    "#swaps function\n",
    "c = a\n",
    "a = b\n",
    "b = c\n",
    "\n",
    "#output\n",
    "print(\"Sawps value of a = \", +a)\n",
    "print(\"Sawps value of b = \", +b)"
   ]
  },
  {
   "cell_type": "markdown",
   "id": "3dfc54cd-014c-4fc3-8a4e-c9e440ec6618",
   "metadata": {
    "id": "3dfc54cd-014c-4fc3-8a4e-c9e440ec6618"
   },
   "source": [
    "### 2. Write a program that calculates the area of a rectangle given its length and width."
   ]
  },
  {
   "cell_type": "code",
   "execution_count": null,
   "id": "c2501e22-890c-4ee6-af58-9c3bad5b7e46",
   "metadata": {
    "id": "c2501e22-890c-4ee6-af58-9c3bad5b7e46",
    "scrolled": true
   },
   "outputs": [],
   "source": [
    "# take input from user\n",
    "length = int(input(\"please input the length of the rectangle: \"))\n",
    "width = int(input(\"please input the width of the rectangle: \"))\n",
    "\n",
    "# calculation\n",
    "area = length * width\n",
    "\n",
    "# output\n",
    "print(\"The area of the Rectangle is = \", +area)"
   ]
  },
  {
   "cell_type": "markdown",
   "id": "0a204e03-a46d-4ad6-8c0a-73e71d79403b",
   "metadata": {
    "id": "0a204e03-a46d-4ad6-8c0a-73e71d79403b"
   },
   "source": [
    "### 3. Write a program that converts temperature from Fahrenheit to Celsius."
   ]
  },
  {
   "cell_type": "code",
   "execution_count": null,
   "id": "c1e9ca68-2dcc-442a-9e2e-bfa3b408aafc",
   "metadata": {
    "id": "c1e9ca68-2dcc-442a-9e2e-bfa3b408aafc"
   },
   "outputs": [],
   "source": [
    "from IPython.display import Image\n",
    "Image(\"ver.png\")\n"
   ]
  },
  {
   "cell_type": "code",
   "execution_count": null,
   "id": "aa561e88-08e1-44a0-a005-e74c7515eb5d",
   "metadata": {
    "id": "aa561e88-08e1-44a0-a005-e74c7515eb5d"
   },
   "outputs": [],
   "source": [
    "# take input from user\n",
    "fahrenheit = float(input(\"please input the fahrenheit you want to convert: \"))\n",
    "\n",
    "#calculation\n",
    "celcius = round((fahrenheit - 32)*(5/9), 2)\n",
    "\n",
    "#output\n",
    "print(f\"Celcius of {fahrenheit} fahrenheit is : {celcius}*c\")\n"
   ]
  },
  {
   "cell_type": "markdown",
   "id": "72f988d7-cc76-4574-87b0-150a4f1d41d6",
   "metadata": {
    "id": "72f988d7-cc76-4574-87b0-150a4f1d41d6"
   },
   "source": [
    "### 4. Write a program that calculates the volume of a sphere given its radius."
   ]
  },
  {
   "cell_type": "code",
   "execution_count": null,
   "id": "d3978b5b-f29c-4bd9-95d4-5257fbb6a64f",
   "metadata": {
    "id": "d3978b5b-f29c-4bd9-95d4-5257fbb6a64f"
   },
   "outputs": [],
   "source": [
    "# take input from user\n",
    "radius = float(input(\"Please input the radius: \"))\n",
    "\n",
    "#calculation\n",
    "volume = round((4/3)*(3.1416)*radius*radius*radius, 2)\n",
    "\n",
    "#output\n",
    "print(f\"volume of a sphere is : {volume}\")"
   ]
  },
  {
   "cell_type": "markdown",
   "id": "3989a15e-f823-4cf7-9458-ea915287195c",
   "metadata": {
    "id": "3989a15e-f823-4cf7-9458-ea915287195c"
   },
   "source": [
    "### 5. Write a program that finds the average of three numbers."
   ]
  },
  {
   "cell_type": "code",
   "execution_count": null,
   "id": "88b7642e-67d1-4fe7-85a8-34a6fbf14e3a",
   "metadata": {
    "id": "88b7642e-67d1-4fe7-85a8-34a6fbf14e3a"
   },
   "outputs": [],
   "source": [
    "# take input from user\n",
    "num1 = float(input(\"Please input the 1st number: \"))\n",
    "num2 = float(input(\"Please input the 2nd number: \"))\n",
    "num3 = float(input(\"Please input the 3rd number: \"))\n",
    "\n",
    "#calculation\n",
    "average = round((num1 + num2 + num3) / 3, 2)\n",
    "\n",
    "#output\n",
    "print(f\"Average of 3 numbers is : {average}\")"
   ]
  },
  {
   "cell_type": "markdown",
   "id": "9f456f7c-3a0f-44c2-9578-204a4382e002",
   "metadata": {
    "id": "9f456f7c-3a0f-44c2-9578-204a4382e002"
   },
   "source": [
    "### 6. Write a program that determines if a number is even or odd."
   ]
  },
  {
   "cell_type": "code",
   "execution_count": null,
   "id": "40948bff-18b9-4498-bd35-a02f44e74827",
   "metadata": {
    "id": "40948bff-18b9-4498-bd35-a02f44e74827"
   },
   "outputs": [],
   "source": [
    "# input from user\n",
    "num = int(input(\"Please input the number to find even or odd: \"))\n",
    "\n",
    "#calculation\n",
    "if num == 0 or num == 1:\n",
    "    print(f\"You enter {num} that is neither odd or even\")\n",
    "else:\n",
    "    if num % 2 == 0:\n",
    "        print(f\"You enter {num}. The {num} is an even number\")\n",
    "    else:\n",
    "        print(f\"You enter {num}. The {num} is an odd number\")"
   ]
  },
  {
   "cell_type": "markdown",
   "id": "fa19359d-4cda-49f0-bfe0-070ec2879c99",
   "metadata": {
    "id": "fa19359d-4cda-49f0-bfe0-070ec2879c99"
   },
   "source": [
    "### 7. Write a program that finds the maximum of three numbers."
   ]
  },
  {
   "cell_type": "code",
   "execution_count": null,
   "id": "zyyGXhS9FONT",
   "metadata": {
    "id": "zyyGXhS9FONT"
   },
   "outputs": [],
   "source": [
    "num1 = int(input(\"Please input the 1st number: \"))\n",
    "num2 = int(input(\"Please input the 2nd number: \"))\n",
    "num3 = int(input(\"Please input the 3rd number: \"))\n",
    "\n",
    "if num1 > num2 and num2 > num3:\n",
    "  print(f\"{num1} is greater.\")\n",
    "if num2 > num1 and num1 > num3:\n",
    "  print(f\"{num2} is greater.\")\n",
    "# if num1 == num2 or num1 == num3 or num2 == num3 or\n",
    "else:\n",
    "  print(f\"{num3} is greater\")"
   ]
  },
  {
   "cell_type": "markdown",
   "id": "ab7004fb-0f77-46a6-8b0f-aed1024ad36a",
   "metadata": {
    "id": "ab7004fb-0f77-46a6-8b0f-aed1024ad36a"
   },
   "source": [
    "### 8. Write a program that determines if a year is a leap year or not."
   ]
  },
  {
   "cell_type": "code",
   "execution_count": null,
   "id": "Y4jVTjwuOZGx",
   "metadata": {
    "id": "Y4jVTjwuOZGx"
   },
   "outputs": [],
   "source": [
    "year = int(input(\"Please a year: \"))\n",
    "\n",
    "if year % 4 == 0:\n",
    "  if year % 100 == 0:\n",
    "    if year % 400 != 0:\n",
    "      print(f\"{year} is not leap year\")\n",
    "    else:\n",
    "      print(f\"{year} is leap year.\")\n",
    "  else:\n",
    "    print(f\"{year} is leap year\")\n",
    "else:\n",
    "  print(f\"{year} is not leap year\")\n"
   ]
  },
  {
   "cell_type": "markdown",
   "id": "dcc99d84-2a97-4cd5-aa43-430bed4e6056",
   "metadata": {
    "id": "dcc99d84-2a97-4cd5-aa43-430bed4e6056"
   },
   "source": [
    "### 9. Write a program that determines if a number is positive, negative, or zero."
   ]
  },
  {
   "cell_type": "code",
   "execution_count": null,
   "id": "PBqYOeeQ22qX",
   "metadata": {
    "id": "PBqYOeeQ22qX"
   },
   "outputs": [],
   "source": [
    "num = int(input(\"Pelase input a number:?\"))\n",
    "\n",
    "if num == 0:\n",
    "  print(\"You enter Zero.\")\n",
    "else:\n",
    "\n",
    "  if num >= 1:\n",
    "    print(f\"{num} is a positive number.\")\n",
    "  if num < 1:\n",
    "    print(f\"{num} is a negetive number.\")\n",
    "\n"
   ]
  },
  {
   "cell_type": "markdown",
   "id": "fbb2ddca-efb1-4415-8bdd-132f6de4e656",
   "metadata": {
    "id": "fbb2ddca-efb1-4415-8bdd-132f6de4e656"
   },
   "source": [
    "### 10. Write a program that calculates the grade based on a given percentage."
   ]
  },
  {
   "cell_type": "code",
   "execution_count": null,
   "id": "SsU9_78M3fPT",
   "metadata": {
    "id": "SsU9_78M3fPT"
   },
   "outputs": [],
   "source": [
    "per = int(input(\"Please input your percentages: \"))\n",
    "\n",
    "\n",
    "if per >= 80 and per <= 100:\n",
    "    print(\"You have got: A+\")\n",
    "if per >= 70 and per < 80:\n",
    "    print(\"You have got: A\")\n",
    "if per >= 60 and per <70:\n",
    "    print(\"You have got: A-\")\n",
    "if per >= 50 and per <60:\n",
    "    print(\"You have got: B\")\n",
    "if per >= 40 and per < 50:\n",
    "    print(\"You have got: C\")\n",
    "if per >= 33 and per < 40:\n",
    "    print(\"You have got: D\")\n",
    "if per >= 1 and per < 33:\n",
    "    print(\"You have Faild\")\n",
    "if per < 1 and per >100:\n",
    "    print(\"You enter a wrong number\")"
   ]
  },
  {
   "cell_type": "markdown",
   "id": "c0bb3d74-89a1-4b7d-8e50-73708f3519a1",
   "metadata": {
    "id": "c0bb3d74-89a1-4b7d-8e50-73708f3519a1"
   },
   "source": [
    "### 11. Write a program that prints the first `n` natural numbers."
   ]
  },
  {
   "cell_type": "code",
   "execution_count": null,
   "id": "f91282ad",
   "metadata": {
    "scrolled": true
   },
   "outputs": [],
   "source": [
    "n_num = int(input(\"Please enter the number you want to add: \"))\n",
    "sum = 0\n",
    "for i in range(n_num + 1):\n",
    "    sum = sum + i\n",
    "    # i = i + 1\n",
    "print(\"the sum is: \", +sum)"
   ]
  },
  {
   "cell_type": "markdown",
   "id": "067fc15f-93ef-4eb5-90cb-6d5e5cc2cb96",
   "metadata": {
    "id": "067fc15f-93ef-4eb5-90cb-6d5e5cc2cb96"
   },
   "source": [
    "### 12. Write a program that calculates the factorial of a number."
   ]
  },
  {
   "cell_type": "code",
   "execution_count": null,
   "id": "41d77cfe",
   "metadata": {},
   "outputs": [],
   "source": [
    "n_num = int(input(\"Please enter the number: \"))\n",
    "fact = 1\n",
    "for i in range(1, n_num + 1):\n",
    "    fact = fact * i\n",
    "    # i = i + 1\n",
    "print(\"the factorial of {n_num} = \", +fact)"
   ]
  },
  {
   "cell_type": "markdown",
   "id": "2ac7040e-8500-43f0-b956-80db5ce0fec6",
   "metadata": {
    "id": "2ac7040e-8500-43f0-b956-80db5ce0fec6"
   },
   "source": [
    "### 13. Write a program that generates a Fibonacci sequence of length `n`."
   ]
  },
  {
   "cell_type": "markdown",
   "id": "b4a8998c-7136-4e95-b82f-594fdd83cced",
   "metadata": {
    "id": "b4a8998c-7136-4e95-b82f-594fdd83cced"
   },
   "source": [
    "### 14. Write a program that checks if a given number is prime or not."
   ]
  },
  {
   "cell_type": "code",
   "execution_count": null,
   "id": "efbd15da-d7df-4eaf-8ec2-0858a69b5895",
   "metadata": {
    "scrolled": true
   },
   "outputs": [],
   "source": [
    "num = int(input(\"Please enter the number: \"))\n",
    "is_prime = True\n",
    "if num == 1:\n",
    "    print(\"1 is not define as a prime number or not\")\n",
    "if num == 2:\n",
    "    is_prime = True\n",
    "for i in range(2, num):\n",
    "    if num % i == 0:\n",
    "        is_prime = False\n",
    "if is_prime:\n",
    "    print(f\"{num} is a prime number\")\n",
    "else:\n",
    "    print(f\"{num} is not a prime number\")\n",
    "        "
   ]
  },
  {
   "cell_type": "markdown",
   "id": "ae9478ef-9664-4f2a-9da2-7f342c72fe44",
   "metadata": {
    "id": "ae9478ef-9664-4f2a-9da2-7f342c72fe44"
   },
   "source": [
    "### 15. Write a program that prints the multiplication table of a given number."
   ]
  },
  {
   "cell_type": "code",
   "execution_count": null,
   "id": "cb1e789d-0c63-4683-a0c5-ef9324aef27e",
   "metadata": {},
   "outputs": [],
   "source": [
    "num = int(input(\"Please enter the number: \"))\n",
    "\n",
    "multi = 1\n",
    "for i in range(1, 11):\n",
    "    multi = num * i\n",
    "    print(f\"{num} × {i} = {multi}\")"
   ]
  },
  {
   "cell_type": "markdown",
   "id": "540149e6-fdb2-4b80-a4f7-34069f8d0a24",
   "metadata": {
    "id": "540149e6-fdb2-4b80-a4f7-34069f8d0a24"
   },
   "source": [
    "### 16. Write a program that finds the sum of all even numbers between 1 and `n`."
   ]
  },
  {
   "cell_type": "code",
   "execution_count": 19,
   "id": "9ce68a8c-f06a-4698-88f1-88bcefe91379",
   "metadata": {},
   "outputs": [
    {
     "name": "stdin",
     "output_type": "stream",
     "text": [
      "Please enter the number:  4\n"
     ]
    },
    {
     "name": "stdout",
     "output_type": "stream",
     "text": [
      "0\n",
      "0\n",
      "2\n",
      "2\n",
      "6\n"
     ]
    }
   ],
   "source": [
    "num = int(input(\"Please enter the number: \"))\n",
    "\n",
    "sum = 0\n",
    "for i in range(num + 1):\n",
    "    if i % 2 == 0:\n",
    "        sum = sum + i\n",
    "    print(sum)"
   ]
  },
  {
   "cell_type": "markdown",
   "id": "9f2f22ad-0188-4661-b6ea-cb85db515380",
   "metadata": {
    "id": "9f2f22ad-0188-4661-b6ea-cb85db515380"
   },
   "source": [
    "### 17. Write a program that reverses a given number."
   ]
  },
  {
   "cell_type": "code",
   "execution_count": null,
   "id": "cfdcd6cd-df58-4c0a-bc00-db2fcb2f947b",
   "metadata": {},
   "outputs": [],
   "source": [
    "num = int(input(\"Please enter the number: \"))\n",
    "\n",
    "for i in range"
   ]
  },
  {
   "cell_type": "markdown",
   "id": "63bd7b85-b520-443b-82d7-37197c11f568",
   "metadata": {
    "id": "63bd7b85-b520-443b-82d7-37197c11f568"
   },
   "source": [
    "### 18. Write a program that checks if a given string is a palindrome."
   ]
  },
  {
   "cell_type": "markdown",
   "id": "f7383dda-95d7-4008-80b0-9c6c2f1aa98d",
   "metadata": {
    "id": "f7383dda-95d7-4008-80b0-9c6c2f1aa98d"
   },
   "source": [
    "### 19. Write a program that generates a random number and allows the user to guess it."
   ]
  },
  {
   "cell_type": "markdown",
   "id": "826bd6ef-d07e-4115-b2c2-7a12be3a8574",
   "metadata": {
    "id": "826bd6ef-d07e-4115-b2c2-7a12be3a8574"
   },
   "source": [
    "### 20. Write a program that finds the greatest common divisor (GCD) of two numbers."
   ]
  }
 ],
 "metadata": {
  "colab": {
   "provenance": []
  },
  "kernelspec": {
   "display_name": "Python 3 (ipykernel)",
   "language": "python",
   "name": "python3"
  },
  "language_info": {
   "codemirror_mode": {
    "name": "ipython",
    "version": 3
   },
   "file_extension": ".py",
   "mimetype": "text/x-python",
   "name": "python",
   "nbconvert_exporter": "python",
   "pygments_lexer": "ipython3",
   "version": "3.12.1"
  }
 },
 "nbformat": 4,
 "nbformat_minor": 5
}
