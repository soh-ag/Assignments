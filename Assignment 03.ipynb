{
 "cells": [
  {
   "cell_type": "markdown",
   "id": "9f1ba1bb-a6cb-46b9-807f-41b2396cf7e4",
   "metadata": {
    "scrolled": true
   },
   "source": [
    "##\tBasic Problems:"
   ]
  },
  {
   "cell_type": "markdown",
   "id": "772ef833-44af-4e4f-bf0d-64d4219e8acd",
   "metadata": {
    "scrolled": true
   },
   "source": [
    "###\t1. Variable Swap: Write a Python program to swap the values of two variables without using a temporary variable."
   ]
  },
  {
   "cell_type": "code",
   "execution_count": null,
   "id": "dbf24a75-25bf-4788-a802-37015f1b045f",
   "metadata": {},
   "outputs": [],
   "source": []
  },
  {
   "cell_type": "markdown",
   "id": "ee23d441-c588-4ac0-85fb-9532c635d630",
   "metadata": {
    "scrolled": true
   },
   "source": [
    "###\t2. Even or Odd: Write a Python program that takes an integer as input and prints whether it is even or odd."
   ]
  },
  {
   "cell_type": "markdown",
   "id": "de8658c3-b47e-489f-946f-9e7579a8016f",
   "metadata": {
    "scrolled": true
   },
   "source": [
    "###\t3. String Reverse: Write a Python function to reverse a given string and return the reversed string."
   ]
  },
  {
   "cell_type": "markdown",
   "id": "a56e83f1-3e59-47d2-be59-0ef4fa82f8da",
   "metadata": {
    "scrolled": true
   },
   "source": [
    "###\t4. Type Conversion: Given a list of integers, write a Python program to convert each element of the list to a string."
   ]
  },
  {
   "cell_type": "markdown",
   "id": "3526091c-0df0-47ab-ada9-de41a31b81cd",
   "metadata": {
    "scrolled": true
   },
   "source": [
    "###\t5. Temperature Converter: Write a Python program that converts a temperature in Celsius to Fahrenheit. Take the Celsius temperature as input from the user."
   ]
  },
  {
   "cell_type": "markdown",
   "id": "a5292d68-4e25-49af-9ab1-5e42125e1157",
   "metadata": {
    "scrolled": true
   },
   "source": [
    "###\t6. Data Type Checker: Write a Python function that takes a variable as input and returns the data type of the variable as a string (e.g., “int”, “float”, “str”, “list”, etc.)."
   ]
  },
  {
   "cell_type": "markdown",
   "id": "bd99b49d-31ed-4af7-9013-9c0c1a2ce0e5",
   "metadata": {
    "scrolled": true
   },
   "source": [
    "###\t7. String Palindrome: Write a Python function to check if a given string is a palindrome or not."
   ]
  },
  {
   "cell_type": "markdown",
   "id": "01203d7a-25e9-462a-bae7-9546ed0d5797",
   "metadata": {
    "scrolled": true
   },
   "source": [
    "###\t8. String Reversal with Slicing: Write a Python function to reverse a given string using slicing."
   ]
  },
  {
   "cell_type": "markdown",
   "id": "dab74b1f-daa3-4608-a61e-d0df902c4513",
   "metadata": {
    "scrolled": true
   },
   "source": [
    "###\t9. String Concatenation: Write a Python program that takes two strings as input and concatenates them into a single string without using the `+` operator."
   ]
  },
  {
   "cell_type": "markdown",
   "id": "a2725d6d-a206-41d1-8f21-42ddbc2ec03d",
   "metadata": {
    "scrolled": true
   },
   "source": [
    "###\t10. Typecasting Challenge: Given three variables: `a = ‘100’`, `b = 25`, and `c = ‘10.5’`, write a Python program to perform the following operations and print the results: – Convert `a` to an integer and add it to `b`. – Convert `c` to a float and subtract it from the result of the first operation. – Convert the final result to a string and concatenate it with the string ” is the answer.”"
   ]
  },
  {
   "cell_type": "markdown",
   "id": "fecd04b1-c35c-46ea-ba77-6742627acb81",
   "metadata": {
    "scrolled": true
   },
   "source": [
    "##\tPython Conditional Statements:"
   ]
  },
  {
   "cell_type": "markdown",
   "id": "00b60c30-4c36-4f04-b513-8a3cece2e915",
   "metadata": {
    "scrolled": true
   },
   "source": [
    "###\t11. Positive, Negative, or Zero: Write a Python program that takes a number as input and prints whether it is positive, negative, or zero."
   ]
  },
  {
   "cell_type": "markdown",
   "id": "129b50e6-e5b8-4678-9fa3-6c9bce22469d",
   "metadata": {
    "scrolled": true
   },
   "source": [
    "###\t12. Largest of Three Numbers: Write a Python program that takes three numbers as input and prints the largest among them."
   ]
  },
  {
   "cell_type": "markdown",
   "id": "77ea2100-4a80-4a2b-9f37-efba5e2bab70",
   "metadata": {
    "scrolled": true
   },
   "source": [
    "###\t13. Leap Year Checker: Write a Python program that takes a year as input and determines if it is a leap year or not."
   ]
  },
  {
   "cell_type": "markdown",
   "id": "da5028d6-8d7d-4e13-aee6-125e6f064557",
   "metadata": {
    "scrolled": true
   },
   "source": [
    "###\t14. Grades Classification: Write a Python program that takes a student’s percentage as input and prints their corresponding grade according to the following criteria: – 90% or above: A+ – 80-89%: A – 70-79%: B – 60-69%: C – Below 60%: Fail"
   ]
  },
  {
   "cell_type": "markdown",
   "id": "ae1a4a93-68df-4916-bc4d-a1eac1d75e4b",
   "metadata": {
    "scrolled": true
   },
   "source": [
    "###\t15. Vowel or Consonant: Write a Python program that takes a single character as input and determines whether it is a vowel or a consonant."
   ]
  },
  {
   "cell_type": "markdown",
   "id": "e68e6e01-e52c-438f-9d20-03a6e8ac7345",
   "metadata": {
    "scrolled": true
   },
   "source": [
    "###\t16. Time Classification: Write a Python program that takes the time in hours (24-hour format) as input and prints “Good Morning”, “Good Afternoon”, “Good Evening”, or “Good Night” based on the time."
   ]
  },
  {
   "cell_type": "markdown",
   "id": "001ab375-b383-40c8-b094-96e86f2f402c",
   "metadata": {
    "scrolled": true
   },
   "source": [
    "###\t17. Triangle Type Checker: Write a Python program that takes three sides of a triangle as input and determines whether it forms an equilateral, isosceles, or scalene triangle."
   ]
  },
  {
   "cell_type": "markdown",
   "id": "140d27fd-150e-4f00-a54e-582d8e26c825",
   "metadata": {
    "scrolled": true
   },
   "source": [
    "###\t18. Quadratic Equation Solver: Write a Python program that takes the coefficients (a, b, c) of a quadratic equation as input and calculates and prints the real roots (if they exist) or a message indicating the complex roots."
   ]
  },
  {
   "cell_type": "markdown",
   "id": "1c708933-e6a0-404f-a06a-d7521396865f",
   "metadata": {
    "scrolled": true
   },
   "source": [
    "###\t19. Number Ranges: Write a Python program that takes an integer as input and prints whether the number falls within the ranges: 0-50, 51-100, 101-150, or above 150."
   ]
  },
  {
   "cell_type": "markdown",
   "id": "978377c4-1c8f-4394-9e7a-fed648edd49d",
   "metadata": {
    "scrolled": true
   },
   "source": [
    "##\tFor & While Loops:"
   ]
  },
  {
   "cell_type": "markdown",
   "id": "ac39ee71-4b16-4656-8fa4-4e1564acc752",
   "metadata": {
    "scrolled": true
   },
   "source": [
    "###\t20. Sum of N Numbers: Write a Python program using a for loop to calculate the sum of the first N natural numbers, where N is taken as input from the user."
   ]
  },
  {
   "cell_type": "markdown",
   "id": "f54f8aec-0336-45c6-9564-92f5536f74bc",
   "metadata": {
    "scrolled": true
   },
   "source": [
    "###\t21. Factorial Calculator: Write a Python program using a while loop to calculate the factorial of a given number N."
   ]
  },
  {
   "cell_type": "markdown",
   "id": "8f7f8d2c-e196-40be-8e7d-38af0e98f594",
   "metadata": {
    "scrolled": true
   },
   "source": [
    "###\t22. Table of a Number: Write a Python program using a for loop to print the multiplication table of a given number N."
   ]
  },
  {
   "cell_type": "markdown",
   "id": "a2cbccee-99f2-4965-81f0-f26f6ec2a3de",
   "metadata": {
    "scrolled": true
   },
   "source": [
    "###\t23. Count Digits in a Number: Write a Python program using a while loop to count the number of digits in a given integer N."
   ]
  },
  {
   "cell_type": "markdown",
   "id": "efd06e2b-c28b-4b28-87c9-16a678b4b904",
   "metadata": {
    "scrolled": true
   },
   "source": [
    "###\t24. Fibonacci Sequence: Write a Python program using a for loop to generate the Fibonacci sequence up to a given limit N."
   ]
  },
  {
   "cell_type": "markdown",
   "id": "67af9702-184b-46da-ad2b-027f700cf973",
   "metadata": {
    "scrolled": true
   },
   "source": [
    "###\t25. Sum of Even Numbers: Write a Python program using a while loop to calculate the sum of all even numbers between 1 and N, where N is taken as input from the user."
   ]
  },
  {
   "cell_type": "markdown",
   "id": "2eda192e-a02c-488c-b48e-a96956599534",
   "metadata": {
    "scrolled": true
   },
   "source": [
    "###\t26. Print Patterns: Write a Python program using nested for loops to print various patterns, such as a right-angled triangle, an inverted right-angled triangle, and so on."
   ]
  },
  {
   "cell_type": "markdown",
   "id": "e588c3ac-b676-49f8-a104-86c4f5f24dee",
   "metadata": {
    "scrolled": true
   },
   "source": [
    "###\t27. Prime Number Checker: Write a Python program using a while loop to check if a given number N is prime or not."
   ]
  },
  {
   "cell_type": "markdown",
   "id": "a707dbcf-57c6-4ca0-93ff-1d0182cbcd88",
   "metadata": {
    "scrolled": true
   },
   "source": [
    "###\t28. List Manipulation: Given a list of integers, write a Python program using a for loop to find the sum, average, maximum, and minimum values in the list."
   ]
  },
  {
   "cell_type": "markdown",
   "id": "92b9ee90-4735-4e53-a77d-1d8b0e30e1d9",
   "metadata": {
    "scrolled": true
   },
   "source": [
    "###\t29. Reverse String: Write a Python program using a while loop to reverse a given string."
   ]
  },
  {
   "cell_type": "markdown",
   "id": "dde2196b-6c9f-41c2-a6e5-f10451648c7d",
   "metadata": {
    "scrolled": true
   },
   "source": [
    "##\tNested Loops:"
   ]
  },
  {
   "cell_type": "markdown",
   "id": "cf9408d1-47d1-4f7e-ae71-1e553a605e68",
   "metadata": {
    "scrolled": true
   },
   "source": [
    "###\t30. Multiplication Table: Write a Python program using nested loops to print the multiplication table from 1 to 10."
   ]
  },
  {
   "cell_type": "markdown",
   "id": "60ca3717-8754-432a-82df-049ef49c4c37",
   "metadata": {
    "scrolled": true
   },
   "source": [
    "###\t31. Print Patterns: Write a Python program using nested loops to print the following pattern:\n",
    "\t*\n",
    "\t**\n",
    "\t***\n",
    "\t****\n",
    "\t*****"
   ]
  },
  {
   "cell_type": "markdown",
   "id": "5a4f2c3a-250a-4b45-b488-1aaed5322da2",
   "metadata": {
    "scrolled": true
   },
   "source": [
    "###\t32. Matrix Multiplication: Write a Python program using nested loops to multiply two matrices."
   ]
  },
  {
   "cell_type": "markdown",
   "id": "c85e6324-c28e-475b-811e-dc1c102843ba",
   "metadata": {
    "scrolled": true
   },
   "source": [
    "###\t33. Chessboard Pattern: Write a Python program using nested loops to print a chessboard pattern (alternating “X” and “O” characters) of size 8×8."
   ]
  },
  {
   "cell_type": "markdown",
   "id": "d3c0d698-6d7d-4d4d-a852-be9fb9c144b2",
   "metadata": {
    "scrolled": true
   },
   "source": [
    "### 34. Number Pyramid: Write a Python program using nested loops to print a number pyramid like the following: 1 22 333 4444 55555"
   ]
  },
  {
   "cell_type": "markdown",
   "id": "f6cad5ff-ded9-43cf-9a8c-3b083c90b76e",
   "metadata": {
    "scrolled": true
   },
   "source": [
    "##\tList Problems:"
   ]
  },
  {
   "cell_type": "markdown",
   "id": "da6b2afd-a230-42c5-a673-fb76bc0243df",
   "metadata": {
    "scrolled": true
   },
   "source": [
    "###\t34. List Sum: Write a Python program to find the sum of all elements in a given list of integers."
   ]
  },
  {
   "cell_type": "markdown",
   "id": "c573c4b3-2c16-4ba0-850c-14b9f64eb471",
   "metadata": {
    "scrolled": true
   },
   "source": [
    "###\t35. List Average: Write a Python program to calculate the average of all elements in a given list of integers."
   ]
  },
  {
   "cell_type": "markdown",
   "id": "01b4397e-3031-4aa2-bebf-5844bd291e8c",
   "metadata": {
    "scrolled": true
   },
   "source": [
    "###\t36. List Max and Min: Write a Python program to find the maximum and minimum values in a given list of integers."
   ]
  },
  {
   "cell_type": "markdown",
   "id": "460441a6-7b8d-4d26-b722-c5ba440c1b15",
   "metadata": {
    "scrolled": true
   },
   "source": [
    "###\t37. List Sorting: Write a Python program to sort a list of integers in ascending order."
   ]
  },
  {
   "cell_type": "markdown",
   "id": "39218c42-60a8-4e0a-946f-c8bd9edfade2",
   "metadata": {
    "scrolled": true
   },
   "source": [
    "###\t38. List Filtering: Given a list of integers, write a Python program to create a new list that contains only the even numbers from the original list."
   ]
  },
  {
   "cell_type": "markdown",
   "id": "c0aedb2d-c18c-4e23-aa1b-dc0e271402aa",
   "metadata": {
    "scrolled": true
   },
   "source": [
    "###\t39. List Reversal: Write a Python program to reverse a given list without using any built-in functions."
   ]
  },
  {
   "cell_type": "markdown",
   "id": "e6114cec-a2b9-442e-9d5f-c6a30dd8f53f",
   "metadata": {
    "scrolled": true
   },
   "source": [
    "###\t40. List Manipulation: Given two lists of integers, write a Python program to create a new list that contains elements common to both lists."
   ]
  },
  {
   "cell_type": "markdown",
   "id": "e10b7e4e-fd30-4761-859f-64328c241a1b",
   "metadata": {
    "scrolled": true
   },
   "source": [
    "###\t41. List Element Count: Write a Python program to count the occurrences of a specific element in a given list."
   ]
  },
  {
   "cell_type": "markdown",
   "id": "9429a3aa-d9e3-46b5-931c-a49a2da16be7",
   "metadata": {
    "scrolled": true
   },
   "source": [
    "###\t42. List Duplicates Removal: Write a Python program to remove duplicates from a given list while preserving the order of the elements."
   ]
  },
  {
   "cell_type": "markdown",
   "id": "a705772d-f229-4881-91e3-58854be224a5",
   "metadata": {
    "scrolled": true
   },
   "source": [
    "###\t43. List Comprehension: Given a list of integers, write a Python program to create a new list that contains the squares of the elements using list comprehension."
   ]
  },
  {
   "cell_type": "markdown",
   "id": "604dd99f-158e-456a-b480-808963af250c",
   "metadata": {
    "scrolled": true
   },
   "source": [
    "##\tNested List Problems:"
   ]
  },
  {
   "cell_type": "markdown",
   "id": "c2439aa9-6c86-43b9-803c-33858a658f03",
   "metadata": {
    "scrolled": true
   },
   "source": [
    "###\t44. Matrix Addition: Write a Python program to add two matrices represented as nested lists."
   ]
  },
  {
   "cell_type": "markdown",
   "id": "c05d7ff0-87b3-4a62-81f6-bdf928ae3af8",
   "metadata": {
    "scrolled": true
   },
   "source": [
    "###\t45. Flatten Nested List: Write a Python program to flatten a given nested list and convert it into a single-dimensional list."
   ]
  },
  {
   "cell_type": "markdown",
   "id": "f2a7a262-30ba-42a1-adcb-ff855f8413ce",
   "metadata": {
    "scrolled": true
   },
   "source": [
    "###\t46. List Element Frequency: Given a nested list containing lists of integers, write a Python program to count the frequency of each element in the entire nested list."
   ]
  },
  {
   "cell_type": "markdown",
   "id": "6303c082-0040-4783-84a6-c115e3cc50df",
   "metadata": {
    "scrolled": true
   },
   "source": [
    "###\t47. Transpose Matrix: Write a Python program to transpose a given matrix represented as a nested list."
   ]
  },
  {
   "cell_type": "markdown",
   "id": "01b25f17-df31-4847-a620-b97bcde0cda1",
   "metadata": {
    "scrolled": true
   },
   "source": [
    "###\t48. List of Lists Concatenation: Given a list of nested lists, write a Python program to concatenate all the sublists into a single flat list."
   ]
  },
  {
   "cell_type": "markdown",
   "id": "d6c50a30-c0a6-4f17-9c69-f03bb45f0e3a",
   "metadata": {
    "scrolled": true
   },
   "source": [
    "##\tTuple Problems:\n",
    "###\t49. Tuple Concatenation: Write a Python program to concatenate two tuples and create a new tuple.\n",
    "###\t50. Tuple Unpacking: Given a tuple with three elements (x, y, z), write a Python program to unpack the tuple and assign the values to three variables.\n",
    "###\t51. Tuple Sorting: Write a Python program to sort a tuple of integers in ascending order.\n",
    "###\t52. Tuple Frequency Count: Given a tuple containing various elements, write a Python program to count the frequency of a specific element in the tuple.\n",
    "###\t53. Tuple to List: Write a Python program to convert a tuple into a list.\n",
    "###\t54. Tuple Reversal: Write a Python program to reverse a tuple without using any built-in functions.\n",
    "###\t55. Tuple Slicing: Given a tuple, write a Python program to extract a slice of elements from it.\n",
    "###\t56. Tuple Operations: Given two tuples of integers, write a Python program to perform element-wise addition, subtraction, and multiplication and create new tuples for each operation.\n",
    "###\t57. Tuple Membership Test: Write a Python program that takes an element as input and checks if it exists in a given tuple.\n",
    "###\t58. Tuple Packing: Write a Python program to pack three variables into a single tuple and print the tuple.\n",
    "\t\n",
    "##\tNested List Problems:\n",
    "###\t59. Nested List Element Access: Given a nested list, write a Python program to access and print specific elements from it.\n",
    "###\t60. Nested List Flattening: Write a Python program to flatten a nested list and convert it into a single-dimensional list.\n",
    "###\t61. Nested List Sorting: Given a nested list containing lists of integers, write a Python program to sort the sublists based on their lengths.\n",
    "###\t62. List of Tuples Conversion: Given a nested list containing tuples of (x, y) coordinates, write a Python program to convert it into a list of x-coordinates and a list of y-coordinates.\n",
    "###\t63. Matrix Transpose: Write a Python program to transpose a given matrix represented as a nested list.\n",
    "###\t64. Nested List Concatenation: Given a list of nested lists, write a Python program to concatenate all the sublists into a single flat list.\n",
    "###\t65. Count Even Numbers: Write a Python program to count the number of even numbers in a nested list.\n",
    "###\t66. Maximum Element in Nested List: Write a Python program to find the maximum element in a nested list of integers.\n",
    "###\t67. Diagonal Sum of Matrix: Given a square matrix represented as a nested list, write a Python program to calculate the sum of the elements in the main diagonal.\n",
    "###\t68. Nested List Element Search: Write a Python program to search for a specific element in a nested list and return its position (row and column indices).\n",
    "\t\n",
    "##\tSet Problems:\n",
    "###\t69. Duplicate Removal: Write a Python program that takes a list of elements as input and creates a new set containing only the unique elements from the list.\n",
    "###\t70. Set Intersection: Given two sets A and B, write a Python program to find their intersection and print the common elements.\n",
    "###\t71. Set Union: Given two sets A and B, write a Python program to find their union and print all the distinct elements from both sets.\n",
    "###\t72. Set Difference: Given two sets A and B, write a Python program to find the difference between set A and set B (i.e., elements present in A but not in B) and print the result.\n",
    "###\t73. Set Symmetric Difference: Given two sets A and B, write a Python program to find the symmetric difference between the two sets (i.e., elements that are present in either set A or set B, but not in both) and print the result.\n",
    "###\t74. Set Operations: Given three sets A, B, and C, write a Python program to find and print the intersection of A and B, the union of B and C, and the difference between C and A.\n",
    "###\t75. Set Subset Check: Given two sets A and B, write a Python program to check if set A is a subset of set B and print the result.\n",
    "###\t76. Set Superset Check: Given two sets A and B, write a Python program to check if set A is a superset of set B and print the result.\n",
    "###\t77. Set Length Check: Write a Python program that takes a set as input and prints the number of elements in the set.\n",
    "###\t76. Set Membership Test: Write a Python program that takes an element as input and checks if it exists in a given set. Print “Found” if the element is present and “Not Found” otherwise.\n",
    "\t\n",
    "##\tDictionary Problems:\n",
    "###\t77. Dictionary Manipulation: Given a dictionary with student names as keys and their corresponding scores as values, write a Python program to add a new student to the dictionary and update the score of an existing student.\n",
    "###\t78. Dictionary Keys and Values: Write a Python program that takes a dictionary as input and prints all the keys and values in separate lines.\n",
    "###\t79. Dictionary Length: Write a Python program to calculate and print the number of key-value pairs in a given dictionary.\n",
    "###\t80. Dictionary Value Search: Given a dictionary of items and their prices, write a Python program to search for an item based on its price and print the item’s name.\n",
    "###\t81. Dictionary Merging: Given two dictionaries, write a Python program to merge them into a single dictionary and print the result.\n",
    "###\t82. Dictionary Key Removal: Given a dictionary of items and their quantities, write a Python program to remove a specific item from the dictionary based on user input.\n",
    "###\t83. Dictionary Sorting: Given a dictionary with names as keys and corresponding ages as values, write a Python program to sort the dictionary based on age in ascending order.\n",
    "###\t84. Dictionary Frequency Count: Write a Python program that takes a string as input and creates a dictionary containing each character as a key and its frequency as the value.\n",
    "###\t85. Dictionary Comprehension: Given a list of integers, write a Python program to create a dictionary where the keys are the elements from the list, and the values are their squares.\n",
    "###\t86. Dictionary Key Check: Write a Python program that takes a key as input and checks if it exists in a given dictionary. Print “Key Found” if the key is present and “Key Not Found” otherwise.\n",
    "\t\n",
    "##\tNested Dictionary Problems:\n",
    "###\t87. Access Nested Dictionary: Given a nested dictionary containing student details, write a Python program to access and print specific information such as a student’s name, age, and address.\n",
    "###\t88. Nested Dictionary Length: Write a Python program to calculate and print the total number of key-value pairs in a nested dictionary.\n",
    "###\t89. Nested Dictionary Update: Given a nested dictionary of employee details, write a Python program to update an employee’s salary based on their employee ID.\n",
    "###\t90. Nested Dictionary Sorting: Given a nested dictionary containing product details (product name, price, and quantity), write a Python program to sort the products based on their prices in ascending order.\n",
    "###\t91. Nested Dictionary Key Search: Write a Python program that takes a key as input and searches for it in a nested dictionary. If found, print the corresponding value, otherwise, print “Key Not Found.”\n",
    "\t\n",
    "##\tBreak & Continue: \n",
    "###\t92. Prime Number Checker: Write a Python program that takes a number as input and determines if it is a prime number or not. Use a `for` loop to check for factors. If a factor is found, `break` out of the loop.\n",
    "###\t93. Even Number Printer: Write a Python program to print all even numbers from 1 to 20. Use a `for` loop and `continue` to skip odd numbers.\n",
    "###\t94. Password Validator: Write a Python program that takes a password as input and checks if it meets the following criteria: at least 8 characters long, contains both uppercase and lowercase letters, and has at least one digit. If the password is valid, print “Password accepted.” If not, use `continue` to prompt the user to enter a valid password.\n",
    "###\t95. Divisible by 3 or 5: Write a Python program to print all numbers from 1 to 50 that are divisible by either 3 or 5. Use a `for` loop and `continue` to skip numbers that are not divisible by either 3 or 5.\n",
    "###\t96. Positive Number Sum: Write a Python program that takes positive numbers as input until a negative number is entered. Then, calculate and print the sum of all positive numbers entered. Use a `while` loop and `break` to exit the loop when a negative number is encountered.\n",
    "###\t97. Word Palindrome Checker: Write a Python program that takes a word as input and checks if it is a palindrome (reads the same forwards and backward). Use `continue` to skip checking the word if its length is less than 3 characters.\n",
    "###\t98. Odd Number Finder: Write a Python program to find the first odd number from a list of integers. Use a `for` loop and `break` to stop the loop when the first odd number is found.\n",
    "###\t99. Number Guessing Game: Write a Python program that generates a random number between 1 and 100 and lets the user guess the number. Use a `while` loop, `break` when the correct number is guessed, and `continue` to keep prompting the user until they guess correctly.\n",
    "###\t100. Vowel Counter: Write a Python program that takes a string as input and counts the number of vowels (a, e, i, o, u) in it. Use a `for` loop and `continue` to skip counting non-vowel characters.\n",
    "###\t101. Unique Characters: Write a Python program that takes a string as input and checks if it contains all unique characters (no character repeats). Use a `for` loop and `break` when a character repeats.\n",
    "\t\n",
    "##\tFunctions Problems:\n",
    "###\t102. Factorial Calculator: Write a Python function called `factorial` that takes an integer as input and returns its factorial. Test the function with different values.\n",
    "###\t103. Palindrome Checker: Write a Python function called `is_palindrome` that takes a string as input and returns `True` if it is a palindrome and `False` otherwise. Test the function with different words.\n",
    "###\t104. Even or Odd Checker: Write a Python function called `even_or_odd` that takes an integer as input and returns “Even” if the number is even and “Odd” if the number is odd. Test the function with different numbers.\n",
    "###\t105. List Sum Calculator: Write a Python function called `list_sum` that takes a list of integers as input and returns the sum of all elements in the list. Test the function with different lists.\n",
    "###\t106. Greatest Common Divisor (GCD) Calculator: Write a Python function called `gcd` that takes two integers as input and returns their greatest common divisor. Test the function with different pairs of numbers.\n",
    "###\t107. Leap Year Checker: Write a Python function called `is_leap_year` that takes a year as input and returns `True` if it is a leap year and `False` otherwise. Test the function with different years.\n",
    "\t\n",
    "##\tNested Functions Problems:\n",
    "###\t108. Math Operations: Write a Python function called `math_operations` that takes three numbers and a string representing an operation (‘add’, ‘subtract’, ‘multiply’, or ‘divide’). The function should return the result of the specified operation on the three numbers. Implement the math operations as nested functions.\n",
    "###\t109. Greeting Generator: Write a Python function called `greeting_generator` that takes a name as input and returns a greeting message using nested functions. The greeting message should be customizable (e.g., “Hello, {name}! How are you today?”).\n",
    "###\t110. Temperature Converter: Write a Python function called `temperature_converter` that takes a temperature value and a string representing the scale (‘C’ for Celsius or ‘F’ for Fahrenheit) as input. The function should convert the temperature from one scale to the other using nested functions and return the converted value.\n",
    "\t\n",
    "\t\n",
    "###\t111. Factorial Calculation: Write a recursive Python function called `factorial` that takes a non-negative integer as input and returns its factorial.\n",
    "###\t112. Fibonacci Series: Write a recursive Python function called `Fibonacci` that takes an integer N as input and returns the Nth number in the Fibonacci series. The Fibonacci series is defined as follows: F(0) = 0, F(1) = 1, and F(n) = F(n-1) + F(n-2) for n > 1.\n",
    "###\t113. The sum of Digits: Write a recursive Python function called `sum_of_digits` that takes an integer as input and returns the sum of its digits.\n",
    "###\t114. Binary Search: Write a recursive Python function called `binary_search` that takes a sorted list and a target value as input and returns the index of the target value in the list using binary search. If the target value is not in the list, return -1.\n",
    "###\t115. Power Calculation: Write a recursive Python function called `power` that takes two positive integers, base and exponent, as input and returns the value of base raised to the exponent."
   ]
  },
  {
   "cell_type": "code",
   "execution_count": null,
   "id": "891479bc-bfaf-4328-94f1-a75e4a95be87",
   "metadata": {},
   "outputs": [],
   "source": []
  }
 ],
 "metadata": {
  "kernelspec": {
   "display_name": "Python 3 (ipykernel)",
   "language": "python",
   "name": "python3"
  },
  "language_info": {
   "codemirror_mode": {
    "name": "ipython",
    "version": 3
   },
   "file_extension": ".py",
   "mimetype": "text/x-python",
   "name": "python",
   "nbconvert_exporter": "python",
   "pygments_lexer": "ipython3",
   "version": "3.12.1"
  }
 },
 "nbformat": 4,
 "nbformat_minor": 5
}
